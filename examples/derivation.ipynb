{
 "metadata": {
  "name": ""
 },
 "nbformat": 3,
 "nbformat_minor": 0,
 "worksheets": [
  {
   "cells": [
    {
     "cell_type": "heading",
     "level": 1,
     "metadata": {},
     "source": [
      "Derivation of the non-dimensional GPE"
     ]
    },
    {
     "cell_type": "markdown",
     "metadata": {},
     "source": [
      "$$i\\hbar\\frac{\\partial\\psi\\left(\\boldsymbol{x},t\\right)}{\\partial t}=-\\frac{\\hbar^{2}}{2m}\\nabla^{2}\\psi\\left(\\boldsymbol{x},t\\right)+V\\psi+NU_{0}\\left|\\psi\\right|^{2}\\psi\\left(\\boldsymbol{x},t\\right)$$\n",
      "\n",
      "Here $\\psi$ is normalized such that\n",
      "\n",
      "$$\\int\\left|\\psi\\right|^{2}d^{3}x=1$$\n",
      " \n",
      "\n",
      "Let $l$ be a characteristic length scale, $\\tau$ a time scale and $E$ an energy scale. Making the following substitutions: $\\boldsymbol{x}=l\\tilde{\\boldsymbol{x}}$ and $t=\\tau\\tilde{t}$ we get\n",
      " \n",
      "$$\\frac{i\\hbar}{\\tau}\\frac{\\partial\\psi\\left(\\boldsymbol{x},\\tau\\tilde{t}\\right)}{\\partial\\tilde{t}}=-\\frac{\\hbar^{2}}{2ml^{2}}\\tilde{\\nabla}^{2}\\psi\\left(l\\tilde{\\boldsymbol{x}},\\tau\\tilde{t}\\right)+V\\psi+NU_{0}\\left|\\psi\\right|^{2}\\psi\\left(l\\tilde{\\boldsymbol{x}},\\tau\\tilde{t}\\right)$$\n",
      "\n",
      "Next, we choose a $\\tilde{\\psi}$ such that \n",
      "\n",
      "$$\\int\\left|\\tilde{\\psi}\\left(\\tilde{\\boldsymbol{x}},\\tilde{t}\\right)\\right|^{2}d^{3}\\tilde{x}=\\int\\left|\\psi\\left(\\boldsymbol{x},t\\right)\\right|^{2}d^{3}x = 1$$\n",
      "\n",
      "is satisfied. This gives us\n",
      "\n",
      "$$\\psi\\left(\\boldsymbol{x},t\\right)=l^{-3/2}\\tilde{\\psi}\\left(\\tilde{\\boldsymbol{x}},\\tilde{t}\\right)$$\n",
      "\n",
      "\n"
     ]
    },
    {
     "cell_type": "markdown",
     "metadata": {},
     "source": [
      "We sub this into the GPE. Notice that the dimensions of the GPE equation are that of energy. Hence to make the equation dimensionless, we divide by the characteristic energy $E$\n",
      "\n",
      "$$\\frac{i\\hbar}{\\tau E}\\frac{\\partial\\tilde{\\psi}\\left(\\tilde{\\boldsymbol{x}},\\tilde{t}\\right)}{\\partial\\tilde{t}}=-\\frac{\\hbar^{2}}{2ml^{2}E}\\tilde{\\nabla}^{2}\\tilde{\\psi}\\left(\\tilde{\\boldsymbol{x}},\\tilde{t}\\right)+\\frac{V}{E}\\tilde{\\psi}\\left(\\tilde{\\boldsymbol{x}},\\tilde{t}\\right)+\\frac{NU_{0}l^{-3}}{E}\\left|\\tilde{\\psi}\\right|^{2}\\tilde{\\psi}\\left(\\tilde{\\boldsymbol{x}},\\tilde{t}\\right)$$"
     ]
    },
    {
     "cell_type": "markdown",
     "metadata": {},
     "source": [
      "Notice that the GPE equation already has three inherent scales built into it - the mass of the particle $m$, the external potential $V$ and the interparticle interaction strength $U_0$. We use the mass, along with the length and time scale to set the energy scale:\n",
      "\n",
      "$$E=ml^2/\\tau^2$$\n",
      "\n",
      "This brings the GPE closer to the non-dimensionalized GPE we want\n",
      "\n",
      "$$i\\left(\\frac{\\hbar\\tau}{ml^{2}}\\right)\\frac{\\partial\\tilde{\\psi}\\left(\\tilde{\\boldsymbol{x}},\\tilde{t}\\right)}{\\partial\\tilde{t}}=-\\frac{1}{2}\\left(\\frac{\\hbar\\tau}{ml^{2}}\\right)^{2}\\tilde{\\nabla}^{2}\\tilde{\\psi}\\left(\\tilde{\\boldsymbol{x}},\\tilde{t}\\right)+\\tilde{V}\\tilde{\\psi}\\left(\\tilde{\\boldsymbol{x}},\\tilde{t}\\right)+\\frac{\\tau^{2}NU_{0}}{ml^{5}}\\left|\\tilde{\\psi}\\right|^{2}\\tilde{\\psi}\\left(\\tilde{\\boldsymbol{x}},\\tilde{t}\\right)$$\n",
      " "
     ]
    },
    {
     "cell_type": "markdown",
     "metadata": {},
     "source": [
      "Here, $\\tilde{V}$ is the dimensionless potential \n",
      "\n",
      "$$\\tilde{V}=\\frac{\\tau^{2}}{ml^{2}}V$$\n",
      "\n",
      "Setting \n",
      "\n",
      "$$\\epsilon=\\left(\\frac{\\hbar\\tau}{ml^{2}}\\right)$$\n",
      "\n",
      "$$\\kappa=\\frac{\\tau^{2}NU_{0}}{ml^{5}}$$\n",
      "\n",
      "and removing the squigglies $\\tilde{}$ from the equation, we finally get\n",
      "\n",
      "$$i\\epsilon\\frac{\\partial\\psi\\left(\\boldsymbol{x},t\\right)}{\\partial t}=-\\frac{1}{2}\\epsilon^{2}\\nabla^{2}\\psi\\left(\\boldsymbol{x},t\\right)+V\\psi\\left(\\boldsymbol{x},t\\right)+\\kappa\\left|\\psi\\right|^{2}\\psi\\left(\\boldsymbol{x},t\\right)$$\n",
      " "
     ]
    },
    {
     "cell_type": "code",
     "collapsed": false,
     "input": [],
     "language": "python",
     "metadata": {},
     "outputs": []
    }
   ],
   "metadata": {}
  }
 ]
}