{
 "metadata": {
  "name": ""
 },
 "nbformat": 3,
 "nbformat_minor": 0,
 "worksheets": [
  {
   "cells": [
    {
     "cell_type": "heading",
     "level": 1,
     "metadata": {},
     "source": [
      "Derivation of the non-dimensional GPE"
     ]
    },
    {
     "cell_type": "markdown",
     "metadata": {},
     "source": [
      "$$i\\hbar\\frac{\\partial\\psi\\left(\\boldsymbol{x},t\\right)}{\\partial t}=-\\frac{\\hbar^{2}}{2m}\\nabla^{2}\\psi\\left(\\boldsymbol{x},t\\right)+V\\psi+NU_{0}\\left|\\psi\\right|^{2}\\psi\\left(\\boldsymbol{x},t\\right)$$\n",
      "\n",
      "Here $\\psi$ is normalized such that\n",
      "\n",
      "$$\\int\\left|\\psi\\right|^{2}d^{3}x=1$$\n",
      " \n",
      "\n",
      "Let $l$ be a characteristic length scale, $\\tau$ a time scale and $E$ an energy scale. Making the following substitutions: $\\boldsymbol{x}=l\\tilde{\\boldsymbol{x}}$ and $t=\\tau\\tilde{t}$ we get\n",
      " \n",
      "$$\\frac{i\\hbar}{\\tau}\\frac{\\partial\\psi\\left(\\boldsymbol{x},\\tau\\tilde{t}\\right)}{\\partial\\tilde{t}}=-\\frac{\\hbar^{2}}{2ml^{2}}\\tilde{\\nabla}^{2}\\psi\\left(l\\tilde{\\boldsymbol{x}},\\tau\\tilde{t}\\right)+V\\psi+NU_{0}\\left|\\psi\\right|^{2}\\psi\\left(l\\tilde{\\boldsymbol{x}},\\tau\\tilde{t}\\right)$$\n",
      "\n",
      "Next, we choose a $\\tilde{\\psi}$ such that \n",
      "\n",
      "$$\\int\\left|\\tilde{\\psi}\\left(\\tilde{\\boldsymbol{x}},\\tilde{t}\\right)\\right|^{2}d^{3}\\tilde{x}=\\int\\left|\\psi\\left(\\boldsymbol{x},t\\right)\\right|^{2}d^{3}x = 1$$\n",
      "\n",
      "is satisfied. This gives us\n",
      "\n",
      "$$\\psi\\left(\\boldsymbol{x},t\\right)=l^{-3/2}\\tilde{\\psi}\\left(\\tilde{\\boldsymbol{x}},\\tilde{t}\\right)$$\n",
      "\n",
      "\n"
     ]
    },
    {
     "cell_type": "markdown",
     "metadata": {},
     "source": [
      "We sub this into the GPE. The dimensions of the GPE equation are that of energy. Hence to make the equation dimensionless, we divide by the characteristic energy $E$\n",
      "\n",
      "$$\\frac{i\\hbar}{\\tau E}\\frac{\\partial\\tilde{\\psi}\\left(\\tilde{\\boldsymbol{x}},\\tilde{t}\\right)}{\\partial\\tilde{t}}=-\\frac{\\hbar^{2}}{2ml^{2}E}\\tilde{\\nabla}^{2}\\tilde{\\psi}\\left(\\tilde{\\boldsymbol{x}},\\tilde{t}\\right)+\\frac{V}{E}\\tilde{\\psi}\\left(\\tilde{\\boldsymbol{x}},\\tilde{t}\\right)+\\frac{NU_{0}l^{-3}}{E}\\left|\\tilde{\\psi}\\right|^{2}\\tilde{\\psi}\\left(\\tilde{\\boldsymbol{x}},\\tilde{t}\\right)$$"
     ]
    },
    {
     "cell_type": "markdown",
     "metadata": {},
     "source": [
      "Notice that the GPE equation already has four inherent scales built into it - reduced Planck's constant $\\hbar$, mass of the particle $m$, the external potential $V$ and the interparticle interaction strength $U_0$. We use the mass of the particle to set the energy scale\n",
      "\n",
      "$$E=ml^2/\\tau^2$$\n",
      "\n",
      "This brings the GPE closer to the non-dimensionalized GPE we want\n",
      "\n",
      "$$i\\left(\\frac{\\hbar\\tau}{ml^{2}}\\right)\\frac{\\partial\\tilde{\\psi}\\left(\\tilde{\\boldsymbol{x}},\\tilde{t}\\right)}{\\partial\\tilde{t}}=-\\frac{1}{2}\\left(\\frac{\\hbar\\tau}{ml^{2}}\\right)^{2}\\tilde{\\nabla}^{2}\\tilde{\\psi}\\left(\\tilde{\\boldsymbol{x}},\\tilde{t}\\right)+\\tilde{V}\\tilde{\\psi}\\left(\\tilde{\\boldsymbol{x}},\\tilde{t}\\right)+\\frac{\\tau^{2}NU_{0}}{ml^{5}}\\left|\\tilde{\\psi}\\right|^{2}\\tilde{\\psi}\\left(\\tilde{\\boldsymbol{x}},\\tilde{t}\\right)$$\n",
      " "
     ]
    },
    {
     "cell_type": "markdown",
     "metadata": {},
     "source": [
      "Here, $\\tilde{V}$ is the dimensionless potential \n",
      "\n",
      "$$\\tilde{V}=\\frac{\\tau^{2}}{ml^{2}}V$$\n",
      "\n",
      "Setting \n",
      "\n",
      "$$\\epsilon=\\left(\\frac{\\hbar\\tau}{ml^{2}}\\right)$$\n",
      "\n",
      "$$\\kappa=\\frac{\\tau^{2}NU_{0}}{ml^{5}}$$\n",
      "\n",
      "and removing the squigglies $\\tilde{}$ from the equation, we finally get\n",
      "\n",
      "$$i\\epsilon\\frac{\\partial\\psi\\left(\\boldsymbol{x},t\\right)}{\\partial t}=-\\frac{1}{2}\\epsilon^{2}\\nabla^{2}\\psi\\left(\\boldsymbol{x},t\\right)+V\\psi\\left(\\boldsymbol{x},t\\right)+\\kappa\\left|\\psi\\right|^{2}\\psi\\left(\\boldsymbol{x},t\\right)$$\n",
      "\n",
      "The equation in the current form has three dimensionless parameters - $\\epsilon$, $\\kappa$ and some length or energy scale in $V$. Depending on the problem we are solving, we can eliminate two of these by setting our length and time scales appropriately. The following examples will illustrate this.\n",
      " "
     ]
    },
    {
     "cell_type": "heading",
     "level": 2,
     "metadata": {},
     "source": [
      "Thomas Fermi Limit"
     ]
    },
    {
     "cell_type": "markdown",
     "metadata": {},
     "source": [
      "TODO: add explanation and fill gaps\n",
      "\n",
      "$$\\left|\\psi\\right|^{2}=\\frac{\\epsilon\\mu-V}{\\kappa}$$\n",
      "\n",
      "$$\\left|\\psi\\right|^{2}=\\frac{\\epsilon\\mu-\\left(\\omega_{x}\\tau\\right)^{2}\\left(x^{2}+\\gamma_{y}y^{2}+\\gamma_{z}z^{2}\\right)/2}{\\kappa}$$\n",
      "\n",
      "$$\\int\\left|\\psi\\right|^{2}dxdydz=1$$\n",
      "\n",
      "$$\\frac{1}{\\gamma_{y}\\gamma_{z}}\\frac{\\mu}{\\kappa}\\frac{1}{\\left(\\omega_{x}\\tau\\right)^{3}}\\left(2\\mu\\right)^{3/2}\\int_{0}^{1}\\left(1-r^{2}\\right)4\\pi r^{2}dr=1$$\n",
      "\n",
      "$$\\mu=\\frac{1}{2}\\left(\\frac{15\\kappa\\gamma_{y}\\gamma_{z}\\left(\\omega_{x}\\tau\\right)^{3}}{4\\pi}\\right)^{2/5}$$"
     ]
    },
    {
     "cell_type": "heading",
     "level": 2,
     "metadata": {},
     "source": [
      "Non interacting or weakly interacting condensate"
     ]
    },
    {
     "cell_type": "heading",
     "level": 2,
     "metadata": {},
     "source": [
      "Reduction to 1d"
     ]
    },
    {
     "cell_type": "code",
     "collapsed": false,
     "input": [],
     "language": "python",
     "metadata": {},
     "outputs": []
    }
   ],
   "metadata": {}
  }
 ]
}